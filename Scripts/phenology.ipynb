{
 "cells": [
  {
   "cell_type": "code",
   "execution_count": 1,
   "id": "9ef4a583-7ff3-43cb-b4b3-779432e4c8b0",
   "metadata": {
    "tags": []
   },
   "outputs": [
    {
     "name": "stdout",
     "output_type": "stream",
     "text": [
      "['/home/jovyan/dev/dea-notebooks/GBA/GBA_Cooper', '/home/jovyan/dev/dea-notebooks/Tools', '/home/jovyan/dev/dea-notebooks/Tools', '/env/lib/python310.zip', '/env/lib/python3.10', '/env/lib/python3.10/lib-dynload', '', '/env/lib/python3.10/site-packages']\n"
     ]
    }
   ],
   "source": [
    "import datacube\n",
    "from datacube.utils.cog import write_cog\n",
    "from datacube.testutils.io import rio_slurp_xarray\n",
    "import pandas as pd\n",
    "import numpy as np\n",
    "import xarray as xr\n",
    "from scipy.signal import savgol_filter, find_peaks\n",
    "from scipy.interpolate import CubicSpline\n",
    "from dask.diagnostics import ProgressBar\n",
    "import datetime\n",
    "\n",
    "import gba_functions\n",
    "import gba_pheno\n",
    "\n",
    "import sys\n",
    "#import pprint\n",
    "#pprint.pprint(sys.path)\n",
    "\n",
    "#sys.path.insert(1,'.../dev/dea-notebooks/Tools/') \n",
    "sys.path.insert(1,'/home/jovyan/dev/dea-notebooks/Tools') \n",
    "\n",
    "#sys.path.insert(2, '.../dev/dea-notebooks/Tools/')\n",
    "print(sys.path)\n",
    "from dea_tools.dask import create_local_dask_cluster\n",
    "from dea_tools.datahandling import wofs_fuser\n",
    "from dea_tools.spatial import xr_rasterize"
   ]
  },
  {
   "cell_type": "code",
   "execution_count": 2,
   "id": "ebce1e6c-0e3c-4eaf-8bc6-6d745519c0af",
   "metadata": {
    "tags": []
   },
   "outputs": [],
   "source": [
    "dc = datacube.Datacube(app='Waterhole Phenology')"
   ]
  },
  {
   "cell_type": "code",
   "execution_count": 3,
   "id": "fef9f2e5-f15e-44ad-8adb-017a1df6c500",
   "metadata": {
    "tags": []
   },
   "outputs": [
    {
     "name": "stderr",
     "output_type": "stream",
     "text": [
      "2023-12-21 00:34:02,412 - distributed.diskutils - INFO - Found stale lock file and directory '/tmp/dask-worker-space/worker-ag7wi1x2', purging\n"
     ]
    },
    {
     "data": {
      "text/html": [
       "<div>\n",
       "    <div style=\"width: 24px; height: 24px; background-color: #e1e1e1; border: 3px solid #9D9D9D; border-radius: 5px; position: absolute;\"> </div>\n",
       "    <div style=\"margin-left: 48px;\">\n",
       "        <h3 style=\"margin-bottom: 0px;\">Client</h3>\n",
       "        <p style=\"color: #9D9D9D; margin-bottom: 0px;\">Client-a3188269-9f98-11ee-83b8-ae5283b9cb4e</p>\n",
       "        <table style=\"width: 100%; text-align: left;\">\n",
       "\n",
       "        <tr>\n",
       "        \n",
       "            <td style=\"text-align: left;\"><strong>Connection method:</strong> Cluster object</td>\n",
       "            <td style=\"text-align: left;\"><strong>Cluster type:</strong> distributed.LocalCluster</td>\n",
       "        \n",
       "        </tr>\n",
       "\n",
       "        \n",
       "            <tr>\n",
       "                <td style=\"text-align: left;\">\n",
       "                    <strong>Dashboard: </strong> <a href=\"/user/marcelo.henriquesdasilva@monash.edu/proxy/8787/status\" target=\"_blank\">/user/marcelo.henriquesdasilva@monash.edu/proxy/8787/status</a>\n",
       "                </td>\n",
       "                <td style=\"text-align: left;\"></td>\n",
       "            </tr>\n",
       "        \n",
       "\n",
       "        </table>\n",
       "\n",
       "        \n",
       "            <button style=\"margin-bottom: 12px;\" data-commandlinker-command=\"dask:populate-and-launch-layout\" data-commandlinker-args='{\"url\": \"/user/marcelo.henriquesdasilva@monash.edu/proxy/8787/status\" }'>\n",
       "                Launch dashboard in JupyterLab\n",
       "            </button>\n",
       "        \n",
       "\n",
       "        \n",
       "            <details>\n",
       "            <summary style=\"margin-bottom: 20px;\"><h3 style=\"display: inline;\">Cluster Info</h3></summary>\n",
       "            <div class=\"jp-RenderedHTMLCommon jp-RenderedHTML jp-mod-trusted jp-OutputArea-output\">\n",
       "    <div style=\"width: 24px; height: 24px; background-color: #e1e1e1; border: 3px solid #9D9D9D; border-radius: 5px; position: absolute;\">\n",
       "    </div>\n",
       "    <div style=\"margin-left: 48px;\">\n",
       "        <h3 style=\"margin-bottom: 0px; margin-top: 0px;\">LocalCluster</h3>\n",
       "        <p style=\"color: #9D9D9D; margin-bottom: 0px;\">388f4377</p>\n",
       "        <table style=\"width: 100%; text-align: left;\">\n",
       "            <tr>\n",
       "                <td style=\"text-align: left;\">\n",
       "                    <strong>Dashboard:</strong> <a href=\"/user/marcelo.henriquesdasilva@monash.edu/proxy/8787/status\" target=\"_blank\">/user/marcelo.henriquesdasilva@monash.edu/proxy/8787/status</a>\n",
       "                </td>\n",
       "                <td style=\"text-align: left;\">\n",
       "                    <strong>Workers:</strong> 1\n",
       "                </td>\n",
       "            </tr>\n",
       "            <tr>\n",
       "                <td style=\"text-align: left;\">\n",
       "                    <strong>Total threads:</strong> 2\n",
       "                </td>\n",
       "                <td style=\"text-align: left;\">\n",
       "                    <strong>Total memory:</strong> 12.21 GiB\n",
       "                </td>\n",
       "            </tr>\n",
       "            \n",
       "            <tr>\n",
       "    <td style=\"text-align: left;\"><strong>Status:</strong> running</td>\n",
       "    <td style=\"text-align: left;\"><strong>Using processes:</strong> True</td>\n",
       "</tr>\n",
       "\n",
       "            \n",
       "        </table>\n",
       "\n",
       "        <details>\n",
       "            <summary style=\"margin-bottom: 20px;\">\n",
       "                <h3 style=\"display: inline;\">Scheduler Info</h3>\n",
       "            </summary>\n",
       "\n",
       "            <div style=\"\">\n",
       "    <div>\n",
       "        <div style=\"width: 24px; height: 24px; background-color: #FFF7E5; border: 3px solid #FF6132; border-radius: 5px; position: absolute;\"> </div>\n",
       "        <div style=\"margin-left: 48px;\">\n",
       "            <h3 style=\"margin-bottom: 0px;\">Scheduler</h3>\n",
       "            <p style=\"color: #9D9D9D; margin-bottom: 0px;\">Scheduler-5db91962-cd66-4e30-a793-3d7086618c92</p>\n",
       "            <table style=\"width: 100%; text-align: left;\">\n",
       "                <tr>\n",
       "                    <td style=\"text-align: left;\">\n",
       "                        <strong>Comm:</strong> tcp://127.0.0.1:45017\n",
       "                    </td>\n",
       "                    <td style=\"text-align: left;\">\n",
       "                        <strong>Workers:</strong> 1\n",
       "                    </td>\n",
       "                </tr>\n",
       "                <tr>\n",
       "                    <td style=\"text-align: left;\">\n",
       "                        <strong>Dashboard:</strong> <a href=\"/user/marcelo.henriquesdasilva@monash.edu/proxy/8787/status\" target=\"_blank\">/user/marcelo.henriquesdasilva@monash.edu/proxy/8787/status</a>\n",
       "                    </td>\n",
       "                    <td style=\"text-align: left;\">\n",
       "                        <strong>Total threads:</strong> 2\n",
       "                    </td>\n",
       "                </tr>\n",
       "                <tr>\n",
       "                    <td style=\"text-align: left;\">\n",
       "                        <strong>Started:</strong> Just now\n",
       "                    </td>\n",
       "                    <td style=\"text-align: left;\">\n",
       "                        <strong>Total memory:</strong> 12.21 GiB\n",
       "                    </td>\n",
       "                </tr>\n",
       "            </table>\n",
       "        </div>\n",
       "    </div>\n",
       "\n",
       "    <details style=\"margin-left: 48px;\">\n",
       "        <summary style=\"margin-bottom: 20px;\">\n",
       "            <h3 style=\"display: inline;\">Workers</h3>\n",
       "        </summary>\n",
       "\n",
       "        \n",
       "        <div style=\"margin-bottom: 20px;\">\n",
       "            <div style=\"width: 24px; height: 24px; background-color: #DBF5FF; border: 3px solid #4CC9FF; border-radius: 5px; position: absolute;\"> </div>\n",
       "            <div style=\"margin-left: 48px;\">\n",
       "            <details>\n",
       "                <summary>\n",
       "                    <h4 style=\"margin-bottom: 0px; display: inline;\">Worker: 0</h4>\n",
       "                </summary>\n",
       "                <table style=\"width: 100%; text-align: left;\">\n",
       "                    <tr>\n",
       "                        <td style=\"text-align: left;\">\n",
       "                            <strong>Comm: </strong> tcp://127.0.0.1:33525\n",
       "                        </td>\n",
       "                        <td style=\"text-align: left;\">\n",
       "                            <strong>Total threads: </strong> 2\n",
       "                        </td>\n",
       "                    </tr>\n",
       "                    <tr>\n",
       "                        <td style=\"text-align: left;\">\n",
       "                            <strong>Dashboard: </strong> <a href=\"/user/marcelo.henriquesdasilva@monash.edu/proxy/38647/status\" target=\"_blank\">/user/marcelo.henriquesdasilva@monash.edu/proxy/38647/status</a>\n",
       "                        </td>\n",
       "                        <td style=\"text-align: left;\">\n",
       "                            <strong>Memory: </strong> 12.21 GiB\n",
       "                        </td>\n",
       "                    </tr>\n",
       "                    <tr>\n",
       "                        <td style=\"text-align: left;\">\n",
       "                            <strong>Nanny: </strong> tcp://127.0.0.1:37945\n",
       "                        </td>\n",
       "                        <td style=\"text-align: left;\"></td>\n",
       "                    </tr>\n",
       "                    <tr>\n",
       "                        <td colspan=\"2\" style=\"text-align: left;\">\n",
       "                            <strong>Local directory: </strong> /tmp/dask-worker-space/worker-clfp4itu\n",
       "                        </td>\n",
       "                    </tr>\n",
       "\n",
       "                    \n",
       "\n",
       "                    \n",
       "\n",
       "                </table>\n",
       "            </details>\n",
       "            </div>\n",
       "        </div>\n",
       "        \n",
       "\n",
       "    </details>\n",
       "</div>\n",
       "\n",
       "        </details>\n",
       "    </div>\n",
       "</div>\n",
       "            </details>\n",
       "        \n",
       "\n",
       "    </div>\n",
       "</div>"
      ],
      "text/plain": [
       "<Client: 'tcp://127.0.0.1:45017' processes=1 threads=2, memory=12.21 GiB>"
      ]
     },
     "metadata": {},
     "output_type": "display_data"
    }
   ],
   "source": [
    "client = create_local_dask_cluster(return_client=True)"
   ]
  },
  {
   "cell_type": "code",
   "execution_count": 10,
   "id": "16a8ff8b-d094-486e-a015-51ed21a254b6",
   "metadata": {
    "tags": []
   },
   "outputs": [],
   "source": [
    "attribute_col = 'Waterhole'\n",
    "\n",
    "# list of waterholes to process\n",
    "#waterhole_list = ['Currareva', 'Arning']\n",
    "\n",
    "#waterhole_list = ['Currareva', 'Arning', 'Wombundarry', 'Tanbar','Eulbertie', 'MulgaCorner', 'Marboo', 'Tarquoh', 'Ergelear', 'Widindra',\n",
    "#                  'Tabbareah', 'Meringhina', 'Bogaller', 'Naccowlah', 'Goonbabina', 'Maapoo', 'Cullyamurra', 'ScrubbyCamp', 'Tirrawarra',\n",
    "#                  'Kudriemitchie']\n",
    "\n",
    "waterhole_list = ['Eulbertie']\n",
    "\n",
    "# Path to the waterhole shapefile\n",
    "#waterhole_shp = ['Shapes/Currareva/Currareva_GBA.shp', 'Shapes/Arning/Arning.shp', 'Shapes/Wombundarry/Wombundarry_GBA.shp',\n",
    "#                 'Shapes/Tanbar/Tanbar_GBA.shp', 'Shapes/Eulbertie/Eulbertie.shp', 'Shapes/MulgaCorner/MulgaCorner.shp',\n",
    "#                 'Shapes/Marboo/Marboo.shp', 'Shapes/Tarquoh/Tarquoh.shp', 'Shapes/Ergelear/Ergelear.shp',\n",
    "#                 'Shapes/Widindra/Widindra.shp', 'Shapes/Tabbareah/Tabbareah.shp', 'Shapes/Meringhina/Meringhina.shp',\n",
    "#                 'Shapes/Bogaller/Bogaller.shp', 'Shapes/Naccowlah/Naccowlah.shp', 'Shapes/Goonbabina/Goonbabinna_GBA.shp',\n",
    "#                 'Shapes/Maapoo/Maapoo.shp', 'Shapes/Cullyamurra/Cullyamurra.shp', 'Shapes/ScrubbyCamp/ScrubbyCamp_GBA.shp',\n",
    "#                 'Shapes/Tirrawarra/Tirrawarra.shp', 'Shapes/Kudriemitchie/Kudriemitchie.shp']\n",
    "\n",
    "waterhole_shp = ['Shapes/Eulbertie/Eulbertie.shp']\n",
    "\n",
    "\n",
    "# Path to the LiDAR derived products\n",
    "#vegetation_cov = ['Rasters/Currareva/currareva_cov.tif', 'Rasters/Arning/arning_cov.tif', 'Rasters/Wombundarry/wombunderry_cov.tif',\n",
    "#                  'Rasters/Tanbar/tanbar_cov.tif', 'Rasters/Eulbertie/eulbertie_cov.tif', 'Rasters/MulgaCorner/mulgacorner_cov.tif',\n",
    "#                  'Rasters/Marboo/marboo_cov.tif', 'Rasters/Tarquoh/tarquoh_cov.tif', 'Rasters/Ergelear/ergelear_cov.tif',\n",
    "#                  'Rasters/Widindra/widindra_cov.tif', 'Rasters/Tabbareah/tabbareah_cov.tif', 'Rasters/Meringhina/meringhina_cov.tif',\n",
    "#                  'Rasters/Bogaller/bogaller_cov.tif', 'Rasters/Naccowlah/naccowla_cov.tif', 'Rasters/Goonbabina/goonbabinna_cov.tif',\n",
    "#                  'Rasters/Maapoo/maapoo_cov.tif', 'Rasters/Cullyamurra/cullyamurra_cov.tif', 'Rasters/ScrubbyCamp/scrubbycamp_cov.tif',\n",
    "#                  'Rasters/Tirrawarra/tirrawarra_cov.tif', 'Rasters/Kudriemitchie/kudriemitchie_cov.tif']\n",
    "\n",
    "vegetation_cov = ['Rasters/Eulbertie/eulbertie_cov.tif']\n",
    "\n",
    "\n",
    "#vegetation_avg = ['Rasters/Currareva/currareva_avg.tif', 'Rasters/Arning/arning_avg.tif', 'Rasters/Wombundarry/wombunderry_avg.tif',\n",
    "#                  'Rasters/Tanbar/tanbar_avg.tif', 'Rasters/Eulbertie/eulbertie_avg.tif', 'Rasters/MulgaCorner/mulgacorner_avg.tif',\n",
    "#                  'Rasters/Marboo/marboo_avg.tif', 'Rasters/Tarquoh/tarquoh_avg.tif', 'Rasters/Ergelear/ergelear_avg.tif',\n",
    "#                  'Rasters/Widindra/widindra_avg.tif', 'Rasters/Tabbareah/tabbareah_avg.tif', 'Rasters/Meringhina/meringhina_avg.tif',\n",
    "#                  'Rasters/Bogaller/bogaller_avg.tif', 'Rasters/Naccowlah/naccowla_avg.tif', 'Rasters/Goonbabina/goonbabinna_avg.tif',\n",
    "#                  'Rasters/Maapoo/maapoo_avg.tif', 'Rasters/Cullyamurra/cullyamurra_avg.tif', 'Rasters/ScrubbyCamp/scrubbycamp_avg.tif',\n",
    "#                  'Rasters/Tirrawarra/tirrawarra_avg.tif', 'Rasters/Kudriemitchie/kudriemitchie_avg.tif']\n",
    "\n",
    "vegetation_avg = ['Rasters/Eulbertie/eulbertie_avg.tif']\n",
    "\n",
    "\n",
    "# query with timeseries inteval\n",
    "veg_proxy = 'NDVI'\n",
    "query = {'time': ('1998-01-01','2020-12-31')\n",
    "         }"
   ]
  },
  {
   "cell_type": "code",
   "execution_count": 11,
   "id": "751e07f0-759a-4554-8394-84c54cc1d5f3",
   "metadata": {
    "tags": []
   },
   "outputs": [
    {
     "name": "stdout",
     "output_type": "stream",
     "text": [
      "Eulbertie\n",
      "Finding datasets\n",
      "    ga_ls5t_ard_3\n",
      "    ga_ls7e_ard_3\n",
      "    ga_ls8c_ard_3\n",
      "Applying fmask pixel quality/cloud mask\n",
      "Returning 1505 time steps as a dask array\n",
      "Dropping bands ['nbart_red', 'nbart_nir']\n",
      "Dense trees\n"
     ]
    },
    {
     "name": "stderr",
     "output_type": "stream",
     "text": [
      "2023-12-22 03:51:07,255 - distributed.nanny - WARNING - Restarting worker\n"
     ]
    },
    {
     "name": "stdout",
     "output_type": "stream",
     "text": [
      "Mid-dense trees\n"
     ]
    },
    {
     "name": "stderr",
     "output_type": "stream",
     "text": [
      "2023-12-22 06:23:29,939 - distributed.nanny - WARNING - Restarting worker\n"
     ]
    },
    {
     "name": "stdout",
     "output_type": "stream",
     "text": [
      "Sparse trees\n"
     ]
    },
    {
     "name": "stderr",
     "output_type": "stream",
     "text": [
      "2023-12-22 13:43:14,091 - distributed.nanny - WARNING - Restarting worker\n"
     ]
    },
    {
     "name": "stdout",
     "output_type": "stream",
     "text": [
      "Isolated trees\n"
     ]
    },
    {
     "name": "stderr",
     "output_type": "stream",
     "text": [
      "2023-12-23 09:25:47,477 - distributed.nanny - WARNING - Restarting worker\n"
     ]
    },
    {
     "name": "stdout",
     "output_type": "stream",
     "text": [
      "Dense shrubs\n"
     ]
    },
    {
     "name": "stderr",
     "output_type": "stream",
     "text": [
      "2023-12-23 09:25:52,407 - distributed.nanny - WARNING - Restarting worker\n"
     ]
    },
    {
     "name": "stdout",
     "output_type": "stream",
     "text": [
      "Mid-dense shrubs\n"
     ]
    },
    {
     "name": "stderr",
     "output_type": "stream",
     "text": [
      "2023-12-23 09:25:57,310 - distributed.nanny - WARNING - Restarting worker\n"
     ]
    },
    {
     "name": "stdout",
     "output_type": "stream",
     "text": [
      "Sparse shrubs\n"
     ]
    },
    {
     "name": "stderr",
     "output_type": "stream",
     "text": [
      "2023-12-23 09:29:58,178 - distributed.nanny - WARNING - Restarting worker\n"
     ]
    },
    {
     "name": "stdout",
     "output_type": "stream",
     "text": [
      "Isolated shrubs\n"
     ]
    },
    {
     "name": "stderr",
     "output_type": "stream",
     "text": [
      "2023-12-23 14:42:31,440 - distributed.nanny - WARNING - Restarting worker\n"
     ]
    },
    {
     "name": "stdout",
     "output_type": "stream",
     "text": [
      "Grasses and bare soil\n"
     ]
    },
    {
     "name": "stderr",
     "output_type": "stream",
     "text": [
      "2023-12-23 20:03:47,156 - distributed.nanny - WARNING - Restarting worker\n"
     ]
    }
   ],
   "source": [
    "loaded_waterholes = {}\n",
    "loaded_classes = {}\n",
    "for waterhole in range(len(waterhole_list)):\n",
    "    print(waterhole_list[waterhole])\n",
    "    \n",
    "    ds, wofls, gdf = gba_functions.load_data(dc, query, waterhole_shp[waterhole], perc_good=0)\n",
    "    ds_no_water, ds_cov, ds_avg, ds_water = gba_functions.prepare_data(ds, wofls, gdf, vegetation_cov[waterhole], \n",
    "                                                                       vegetation_avg[waterhole], perc_good=0)\n",
    "    ds_no_water = gba_functions.chebyshev(ds_no_water, prob=0.05)\n",
    "    ds_resample = ds_no_water.resample(time=\"16D\").max('time')\n",
    "    \n",
    "    ds_classes, ds_mask = gba_functions.lidar_veg(ds_cov, ds_avg)\n",
    "    \n",
    "    #ds_resample = ds_resample.compute()\n",
    "    ds_fPARs = gba_pheno.calc_fpar(ds_resample)\n",
    "    \n",
    "    pheno_template = pd.DataFrame(columns=['SOS_dt','SOS_doy','SOS_v','POS_dt','POS_doy','POS_v','EOS_dt','EOS_doy','EOS_v','x','y', 'Vegetation', 'LOS'])\n",
    "    pheno_template_r = pd.DataFrame(columns=['SOS_dt','SOS_doy','SOS_v','POS_dt','POS_doy','POS_v','EOS_dt','EOS_doy','EOS_v','x','y', 'Vegetation', 'LOS'])\n",
    "    pheno_template_p = pd.DataFrame(columns=['SOS_dt','SOS_doy','SOS_v','POS_dt','POS_doy','POS_v','EOS_dt','EOS_doy','EOS_v','x','y', 'Vegetation', 'LOS'])\n",
    "    for vegetation in ds_classes.keys():\n",
    "        print(vegetation)\n",
    "\n",
    "        pheno_full, pheno_full_r, pheno_full_p = gba_pheno.phenopix(ds_fPARs, ds_classes, veg_class=vegetation, threshold=0.2)\n",
    "        \n",
    "        pheno_full = pheno_full.assign(Waterhole=waterhole_list[waterhole])\n",
    "        pheno_full_r = pheno_full_r.assign(Waterhole=waterhole_list[waterhole])\n",
    "        pheno_full_p = pheno_full_p.assign(Waterhole=waterhole_list[waterhole])\n",
    "        \n",
    "        pheno_template = pd.concat([pheno_template, pheno_full])\n",
    "        pheno_template_r = pd.concat([pheno_template_r, pheno_full_r])\n",
    "        pheno_template_p = pd.concat([pheno_template_p, pheno_full_p])\n",
    "    \n",
    "        client.restart()\n",
    "        \n",
    "    out_path = \"Outputs/Phenology/\"+waterhole_list[waterhole]+\"_fPAR.csv\"\n",
    "    pheno_template.to_csv(out_path, index=False)\n",
    "    \n",
    "    out_path_r = \"Outputs/Phenology/\"+waterhole_list[waterhole]+\"_fPAR_R.csv\"\n",
    "    pheno_template_r.to_csv(out_path_r, index=False)\n",
    "    \n",
    "    out_path_p = \"Outputs/Phenology/\"+waterhole_list[waterhole]+\"_fPAR_P.csv\"\n",
    "    pheno_template_p.to_csv(out_path_p, index=False)"
   ]
  },
  {
   "cell_type": "code",
   "execution_count": null,
   "id": "ba7b7821-65ae-4ceb-b5cb-a4721858e8a8",
   "metadata": {},
   "outputs": [],
   "source": []
  }
 ],
 "metadata": {
  "kernelspec": {
   "display_name": "Python 3 (ipykernel)",
   "language": "python",
   "name": "python3"
  },
  "language_info": {
   "codemirror_mode": {
    "name": "ipython",
    "version": 3
   },
   "file_extension": ".py",
   "mimetype": "text/x-python",
   "name": "python",
   "nbconvert_exporter": "python",
   "pygments_lexer": "ipython3",
   "version": "3.10.13"
  }
 },
 "nbformat": 4,
 "nbformat_minor": 5
}
